{
 "cells": [
  {
   "cell_type": "code",
   "execution_count": 307,
   "id": "bafc2250",
   "metadata": {},
   "outputs": [],
   "source": [
    "# citation:\n",
    "# https://www.kaggle.com/code/calvinwang0312/netflix-dataset-eda-tf-idf-recommendation"
   ]
  },
  {
   "cell_type": "code",
   "execution_count": 308,
   "id": "85dd7b82",
   "metadata": {},
   "outputs": [
    {
     "name": "stdout",
     "output_type": "stream",
     "text": [
      "Python 3.7.13\n"
     ]
    }
   ],
   "source": [
    "!python --version"
   ]
  },
  {
   "cell_type": "code",
   "execution_count": 309,
   "id": "d634cc1a",
   "metadata": {},
   "outputs": [],
   "source": [
    "import pandas as pd\n",
    "import matplotlib.pyplot as plt"
   ]
  },
  {
   "cell_type": "code",
   "execution_count": 310,
   "id": "57b3a493",
   "metadata": {},
   "outputs": [],
   "source": [
    "file_path = \".\\\\rsc\\\\mysql\\\\netflix_titles.csv\"\n",
    "\n",
    "netflix_data = pd.read_csv(file_path)"
   ]
  },
  {
   "cell_type": "code",
   "execution_count": 311,
   "id": "c3435351",
   "metadata": {},
   "outputs": [
    {
     "data": {
      "text/html": [
       "<div>\n",
       "<style scoped>\n",
       "    .dataframe tbody tr th:only-of-type {\n",
       "        vertical-align: middle;\n",
       "    }\n",
       "\n",
       "    .dataframe tbody tr th {\n",
       "        vertical-align: top;\n",
       "    }\n",
       "\n",
       "    .dataframe thead th {\n",
       "        text-align: right;\n",
       "    }\n",
       "</style>\n",
       "<table border=\"1\" class=\"dataframe\">\n",
       "  <thead>\n",
       "    <tr style=\"text-align: right;\">\n",
       "      <th></th>\n",
       "      <th>show_id</th>\n",
       "      <th>type</th>\n",
       "      <th>title</th>\n",
       "      <th>director</th>\n",
       "      <th>cast</th>\n",
       "      <th>country</th>\n",
       "      <th>date_added</th>\n",
       "      <th>release_year</th>\n",
       "      <th>rating</th>\n",
       "      <th>duration</th>\n",
       "      <th>listed_in</th>\n",
       "      <th>description</th>\n",
       "    </tr>\n",
       "  </thead>\n",
       "  <tbody>\n",
       "    <tr>\n",
       "      <th>0</th>\n",
       "      <td>s1</td>\n",
       "      <td>Movie</td>\n",
       "      <td>Dick Johnson Is Dead</td>\n",
       "      <td>Kirsten Johnson</td>\n",
       "      <td>NaN</td>\n",
       "      <td>United States</td>\n",
       "      <td>September 25, 2021</td>\n",
       "      <td>2020</td>\n",
       "      <td>PG-13</td>\n",
       "      <td>90 min</td>\n",
       "      <td>Documentaries</td>\n",
       "      <td>As her father nears the end of his life, filmm...</td>\n",
       "    </tr>\n",
       "    <tr>\n",
       "      <th>1</th>\n",
       "      <td>s2</td>\n",
       "      <td>TV Show</td>\n",
       "      <td>Blood &amp; Water</td>\n",
       "      <td>NaN</td>\n",
       "      <td>Ama Qamata, Khosi Ngema, Gail Mabalane, Thaban...</td>\n",
       "      <td>South Africa</td>\n",
       "      <td>September 24, 2021</td>\n",
       "      <td>2021</td>\n",
       "      <td>TV-MA</td>\n",
       "      <td>2 Seasons</td>\n",
       "      <td>International TV Shows, TV Dramas, TV Mysteries</td>\n",
       "      <td>After crossing paths at a party, a Cape Town t...</td>\n",
       "    </tr>\n",
       "    <tr>\n",
       "      <th>2</th>\n",
       "      <td>s3</td>\n",
       "      <td>TV Show</td>\n",
       "      <td>Ganglands</td>\n",
       "      <td>Julien Leclercq</td>\n",
       "      <td>Sami Bouajila, Tracy Gotoas, Samuel Jouy, Nabi...</td>\n",
       "      <td>NaN</td>\n",
       "      <td>September 24, 2021</td>\n",
       "      <td>2021</td>\n",
       "      <td>TV-MA</td>\n",
       "      <td>1 Season</td>\n",
       "      <td>Crime TV Shows, International TV Shows, TV Act...</td>\n",
       "      <td>To protect his family from a powerful drug lor...</td>\n",
       "    </tr>\n",
       "  </tbody>\n",
       "</table>\n",
       "</div>"
      ],
      "text/plain": [
       "  show_id     type                 title         director  \\\n",
       "0      s1    Movie  Dick Johnson Is Dead  Kirsten Johnson   \n",
       "1      s2  TV Show         Blood & Water              NaN   \n",
       "2      s3  TV Show             Ganglands  Julien Leclercq   \n",
       "\n",
       "                                                cast        country  \\\n",
       "0                                                NaN  United States   \n",
       "1  Ama Qamata, Khosi Ngema, Gail Mabalane, Thaban...   South Africa   \n",
       "2  Sami Bouajila, Tracy Gotoas, Samuel Jouy, Nabi...            NaN   \n",
       "\n",
       "           date_added  release_year rating   duration  \\\n",
       "0  September 25, 2021          2020  PG-13     90 min   \n",
       "1  September 24, 2021          2021  TV-MA  2 Seasons   \n",
       "2  September 24, 2021          2021  TV-MA   1 Season   \n",
       "\n",
       "                                           listed_in  \\\n",
       "0                                      Documentaries   \n",
       "1    International TV Shows, TV Dramas, TV Mysteries   \n",
       "2  Crime TV Shows, International TV Shows, TV Act...   \n",
       "\n",
       "                                         description  \n",
       "0  As her father nears the end of his life, filmm...  \n",
       "1  After crossing paths at a party, a Cape Town t...  \n",
       "2  To protect his family from a powerful drug lor...  "
      ]
     },
     "execution_count": 311,
     "metadata": {},
     "output_type": "execute_result"
    }
   ],
   "source": [
    "netflix_data.head(3)"
   ]
  },
  {
   "cell_type": "code",
   "execution_count": 312,
   "id": "78da98ae",
   "metadata": {},
   "outputs": [
    {
     "name": "stdout",
     "output_type": "stream",
     "text": [
      "<class 'pandas.core.frame.DataFrame'>\n",
      "RangeIndex: 8807 entries, 0 to 8806\n",
      "Data columns (total 12 columns):\n",
      " #   Column        Non-Null Count  Dtype \n",
      "---  ------        --------------  ----- \n",
      " 0   show_id       8807 non-null   object\n",
      " 1   type          8807 non-null   object\n",
      " 2   title         8807 non-null   object\n",
      " 3   director      6173 non-null   object\n",
      " 4   cast          7982 non-null   object\n",
      " 5   country       7976 non-null   object\n",
      " 6   date_added    8797 non-null   object\n",
      " 7   release_year  8807 non-null   int64 \n",
      " 8   rating        8803 non-null   object\n",
      " 9   duration      8804 non-null   object\n",
      " 10  listed_in     8807 non-null   object\n",
      " 11  description   8807 non-null   object\n",
      "dtypes: int64(1), object(11)\n",
      "memory usage: 825.8+ KB\n"
     ]
    }
   ],
   "source": [
    "netflix_data.info()"
   ]
  },
  {
   "cell_type": "code",
   "execution_count": 313,
   "id": "4afe5f65",
   "metadata": {},
   "outputs": [
    {
     "name": "stdout",
     "output_type": "stream",
     "text": [
      "show_id null rate: 0.0%\n",
      "type null rate: 0.0%\n",
      "title null rate: 0.0%\n",
      "director null rate: 29.91%\n",
      "cast null rate: 9.37%\n",
      "country null rate: 9.44%\n",
      "date_added null rate: 0.11%\n",
      "release_year null rate: 0.0%\n",
      "rating null rate: 0.05%\n",
      "duration null rate: 0.03%\n",
      "listed_in null rate: 0.0%\n",
      "description null rate: 0.0%\n"
     ]
    }
   ],
   "source": [
    "for i in netflix_data.columns:\n",
    "    null_percent = netflix_data[i].isna().sum()/len(netflix_data) *100\n",
    "    print(\"{} null rate: {}%\".format(i,round(null_percent,2)))"
   ]
  },
  {
   "cell_type": "code",
   "execution_count": 314,
   "id": "d1c6dd52",
   "metadata": {},
   "outputs": [],
   "source": [
    "netflix_data['title'] = netflix_data['title'].str.lower()\n",
    "\n",
    "netflix_data.drop('description', axis=1, inplace=True)\n",
    "netflix_data.drop('director', axis=1, inplace=True)\n",
    "netflix_data.drop('rating', axis=1, inplace=True)\n",
    "\n",
    "# transform the type of date_added into datetime\n",
    "netflix_data.loc[:, 'date_added'] = pd.to_datetime(netflix_data['date_added'])\n",
    "\n",
    "# transform the type of show_id into int64\n",
    "netflix_data['show_id'] = pd.factorize(netflix_data['show_id'])[0]\n",
    "\n",
    "# delete all TV Show records\n",
    "netflix_data = netflix_data[netflix_data['type'] != 'Movie']"
   ]
  },
  {
   "cell_type": "code",
   "execution_count": 315,
   "id": "de82948f",
   "metadata": {},
   "outputs": [
    {
     "name": "stdout",
     "output_type": "stream",
     "text": [
      "show_id null rate: 0.0%\n",
      "type null rate: 0.0%\n",
      "title null rate: 0.0%\n",
      "cast null rate: 13.08%\n",
      "country null rate: 14.61%\n",
      "date_added null rate: 0.37%\n",
      "release_year null rate: 0.0%\n",
      "duration null rate: 0.0%\n",
      "listed_in null rate: 0.0%\n"
     ]
    }
   ],
   "source": [
    "for i in netflix_data.columns:\n",
    "    null_percent = netflix_data[i].isna().sum()/len(netflix_data) *100\n",
    "    print(\"{} null rate: {}%\".format(i,round(null_percent,2)))"
   ]
  },
  {
   "cell_type": "code",
   "execution_count": 316,
   "id": "454401de",
   "metadata": {},
   "outputs": [
    {
     "data": {
      "text/html": [
       "<div>\n",
       "<style scoped>\n",
       "    .dataframe tbody tr th:only-of-type {\n",
       "        vertical-align: middle;\n",
       "    }\n",
       "\n",
       "    .dataframe tbody tr th {\n",
       "        vertical-align: top;\n",
       "    }\n",
       "\n",
       "    .dataframe thead th {\n",
       "        text-align: right;\n",
       "    }\n",
       "</style>\n",
       "<table border=\"1\" class=\"dataframe\">\n",
       "  <thead>\n",
       "    <tr style=\"text-align: right;\">\n",
       "      <th></th>\n",
       "      <th>show_id</th>\n",
       "      <th>type</th>\n",
       "      <th>title</th>\n",
       "      <th>cast</th>\n",
       "      <th>country</th>\n",
       "      <th>date_added</th>\n",
       "      <th>release_year</th>\n",
       "      <th>duration</th>\n",
       "      <th>listed_in</th>\n",
       "    </tr>\n",
       "  </thead>\n",
       "  <tbody>\n",
       "    <tr>\n",
       "      <th>1</th>\n",
       "      <td>1</td>\n",
       "      <td>TV Show</td>\n",
       "      <td>blood &amp; water</td>\n",
       "      <td>Ama Qamata, Khosi Ngema, Gail Mabalane, Thaban...</td>\n",
       "      <td>South Africa</td>\n",
       "      <td>2021-09-24</td>\n",
       "      <td>2021</td>\n",
       "      <td>2 Seasons</td>\n",
       "      <td>International TV Shows, TV Dramas, TV Mysteries</td>\n",
       "    </tr>\n",
       "    <tr>\n",
       "      <th>2</th>\n",
       "      <td>2</td>\n",
       "      <td>TV Show</td>\n",
       "      <td>ganglands</td>\n",
       "      <td>Sami Bouajila, Tracy Gotoas, Samuel Jouy, Nabi...</td>\n",
       "      <td>NaN</td>\n",
       "      <td>2021-09-24</td>\n",
       "      <td>2021</td>\n",
       "      <td>1 Season</td>\n",
       "      <td>Crime TV Shows, International TV Shows, TV Act...</td>\n",
       "    </tr>\n",
       "    <tr>\n",
       "      <th>3</th>\n",
       "      <td>3</td>\n",
       "      <td>TV Show</td>\n",
       "      <td>jailbirds new orleans</td>\n",
       "      <td>NaN</td>\n",
       "      <td>NaN</td>\n",
       "      <td>2021-09-24</td>\n",
       "      <td>2021</td>\n",
       "      <td>1 Season</td>\n",
       "      <td>Docuseries, Reality TV</td>\n",
       "    </tr>\n",
       "  </tbody>\n",
       "</table>\n",
       "</div>"
      ],
      "text/plain": [
       "   show_id     type                  title  \\\n",
       "1        1  TV Show          blood & water   \n",
       "2        2  TV Show              ganglands   \n",
       "3        3  TV Show  jailbirds new orleans   \n",
       "\n",
       "                                                cast       country date_added  \\\n",
       "1  Ama Qamata, Khosi Ngema, Gail Mabalane, Thaban...  South Africa 2021-09-24   \n",
       "2  Sami Bouajila, Tracy Gotoas, Samuel Jouy, Nabi...           NaN 2021-09-24   \n",
       "3                                                NaN           NaN 2021-09-24   \n",
       "\n",
       "   release_year   duration                                          listed_in  \n",
       "1          2021  2 Seasons    International TV Shows, TV Dramas, TV Mysteries  \n",
       "2          2021   1 Season  Crime TV Shows, International TV Shows, TV Act...  \n",
       "3          2021   1 Season                             Docuseries, Reality TV  "
      ]
     },
     "execution_count": 316,
     "metadata": {},
     "output_type": "execute_result"
    }
   ],
   "source": [
    "netflix_data.head(3)"
   ]
  },
  {
   "cell_type": "code",
   "execution_count": 317,
   "id": "9109e28e",
   "metadata": {},
   "outputs": [
    {
     "data": {
      "image/png": "[encoded data removed]",
      "text/plain": [
       "<Figure size 1200x600 with 1 Axes>"
      ]
     },
     "metadata": {},
     "output_type": "display_data"
    }
   ],
   "source": [
    "missing_data = pd.DataFrame(columns=['Column', 'MissingRate'])\n",
    "\n",
    "for i in netflix_data.columns:\n",
    "    null_percent = netflix_data[i].isna().sum() / len(netflix_data) * 100\n",
    "    missing_data = missing_data.append({'Column': i, 'MissingRate': null_percent}, ignore_index=True)\n",
    "\n",
    "missing_data = missing_data.sort_values(by='MissingRate', ascending=False)\n",
    "\n",
    "plt.figure(figsize=(12, 6))\n",
    "plt.bar(missing_data['Column'], missing_data['MissingRate'])\n",
    "plt.xlabel('Column')\n",
    "plt.ylabel('Missing Rate (%)')\n",
    "plt.title('Missing Rate for Each Column in Netflix Data')\n",
    "plt.xticks(rotation=90)\n",
    "plt.tight_layout()\n",
    "\n",
    "plt.show()\n"
   ]
  },
  {
   "cell_type": "code",
   "execution_count": 318,
   "id": "f04489fd",
   "metadata": {},
   "outputs": [],
   "source": [
    "# Remove rows containing missing data\n",
    "df = netflix_data.dropna()"
   ]
  },
  {
   "cell_type": "code",
   "execution_count": 319,
   "id": "00f92be1",
   "metadata": {},
   "outputs": [],
   "source": [
    "# fracture listed_in attribute\n",
    "df_temp = df.copy()\n",
    "df = (\n",
    "    df_temp.drop('listed_in', axis=1)\n",
    "    .join(\n",
    "        df_temp['listed_in'].str.split(', ', expand=True)\n",
    "        # note that in original dataframe: the country fields can contain more than one country and they are seperated by ', '\n",
    "        .stack()\n",
    "        .reset_index(drop=True, level=1)\n",
    "        .rename('listed_in')\n",
    "    )\n",
    ")\n",
    "df = df.drop_duplicates().reset_index(drop=True)"
   ]
  },
  {
   "cell_type": "code",
   "execution_count": 320,
   "id": "555a4d9e",
   "metadata": {},
   "outputs": [
    {
     "data": {
      "text/plain": [
       "array(['International TV Shows', 'TV Dramas', 'TV Mysteries',\n",
       "       'Romantic TV Shows', 'TV Comedies', 'British TV Shows',\n",
       "       'Reality TV', 'Crime TV Shows', 'Spanish-Language TV Shows',\n",
       "       'TV Action & Adventure', 'Docuseries', \"Kids' TV\",\n",
       "       'TV Sci-Fi & Fantasy', 'Anime Series', 'Korean TV Shows',\n",
       "       'Teen TV Shows', 'TV Horror', 'TV Shows', 'Classic & Cult TV',\n",
       "       'TV Thrillers', 'Science & Nature TV',\n",
       "       'Stand-Up Comedy & Talk Shows'], dtype=object)"
      ]
     },
     "execution_count": 320,
     "metadata": {},
     "output_type": "execute_result"
    }
   ],
   "source": [
    "df['listed_in'].unique()"
   ]
  },
  {
   "cell_type": "code",
   "execution_count": 321,
   "id": "12fdf3c5",
   "metadata": {},
   "outputs": [],
   "source": [
    "# Updated category mapping\n",
    "category_mapping = {\n",
    "    'Drama & Adventure': ['TV Dramas', 'TV Mysteries', 'Crime TV Shows', 'TV Thrillers', 'TV Action & Adventure'],\n",
    "    'Comedy': ['TV Comedies', 'Stand-Up Comedy & Talk Shows'],\n",
    "    'Science Fiction & Kids': ['TV Sci-Fi & Fantasy', \"Kids' TV\"],  \n",
    "    'Reality & Documentary': ['Reality TV', 'Docuseries', 'Science & Nature TV'],\n",
    "    'International': ['International TV Shows', 'Spanish-Language TV Shows', 'British TV Shows']\n",
    "}\n",
    "\n",
    "# Function to map genres to categories\n",
    "def map_category(genre):\n",
    "    for category, genres in category_mapping.items():\n",
    "        if genre in genres:\n",
    "            return category\n",
    "    return None\n",
    "\n",
    "# Applying the mapping function to the 'listed_in' column\n",
    "df['listed_in'] = df['listed_in'].apply(map_category)"
   ]
  },
  {
   "cell_type": "code",
   "execution_count": 322,
   "id": "25e6d1e9",
   "metadata": {},
   "outputs": [],
   "source": [
    "df = df.dropna()"
   ]
  },
  {
   "cell_type": "code",
   "execution_count": 323,
   "id": "49404eff",
   "metadata": {},
   "outputs": [
    {
     "data": {
      "image/png": "[encoded data removed]",
      "text/plain": [
       "<Figure size 1000x600 with 1 Axes>"
      ]
     },
     "metadata": {},
     "output_type": "display_data"
    }
   ],
   "source": [
    "category_counts = df['listed_in'].dropna().value_counts()\n",
    "\n",
    "# Plotting the bar chart\n",
    "plt.figure(figsize=(10, 6))\n",
    "category_counts.plot(kind='bar')\n",
    "plt.title('Number of Items per Category')\n",
    "plt.xlabel('Category')\n",
    "plt.ylabel('Count')\n",
    "plt.xticks(rotation=45)\n",
    "plt.show()"
   ]
  },
  {
   "cell_type": "code",
   "execution_count": 324,
   "id": "02cc5438",
   "metadata": {},
   "outputs": [
    {
     "data": {
      "text/plain": [
       "array(['International', 'Drama & Adventure', 'Comedy',\n",
       "       'Reality & Documentary', 'Science Fiction & Kids'], dtype=object)"
      ]
     },
     "execution_count": 324,
     "metadata": {},
     "output_type": "execute_result"
    }
   ],
   "source": [
    "df['listed_in'].unique()"
   ]
  },
  {
   "cell_type": "code",
   "execution_count": 325,
   "id": "2f14feb7",
   "metadata": {},
   "outputs": [],
   "source": [
    "# transform the type of duration into int64\n",
    "df['duration'] = df['duration'].str.extract('(\\d+)').astype(int)"
   ]
  },
  {
   "cell_type": "code",
   "execution_count": 326,
   "id": "3153772e",
   "metadata": {},
   "outputs": [],
   "source": [
    "# We can observe that each moive contains several cast and countries\n",
    "# To simplify the problem, we resolve the cast attribute, and only maintain the first country in country attribute\n",
    "df_temp = df.copy()\n",
    "df = (\n",
    "    df_temp.drop('cast', axis=1)\n",
    "    .join(\n",
    "        df_temp['cast'].str.split(', ', expand=True)\n",
    "        # note that in original dataframe: the country fields can contain more than one country and they are seperated by ', '\n",
    "        .stack()\n",
    "        .reset_index(drop=True, level=1)\n",
    "        .rename('cast')\n",
    "    )\n",
    ")\n",
    "\n",
    "df['country'] = df['country'].str.split(', ').str[0]"
   ]
  },
  {
   "cell_type": "code",
   "execution_count": 327,
   "id": "87b7b585",
   "metadata": {},
   "outputs": [
    {
     "data": {
      "text/html": [
       "<div>\n",
       "<style scoped>\n",
       "    .dataframe tbody tr th:only-of-type {\n",
       "        vertical-align: middle;\n",
       "    }\n",
       "\n",
       "    .dataframe tbody tr th {\n",
       "        vertical-align: top;\n",
       "    }\n",
       "\n",
       "    .dataframe thead th {\n",
       "        text-align: right;\n",
       "    }\n",
       "</style>\n",
       "<table border=\"1\" class=\"dataframe\">\n",
       "  <thead>\n",
       "    <tr style=\"text-align: right;\">\n",
       "      <th></th>\n",
       "      <th>show_id</th>\n",
       "      <th>type</th>\n",
       "      <th>title</th>\n",
       "      <th>country</th>\n",
       "      <th>date_added</th>\n",
       "      <th>release_year</th>\n",
       "      <th>duration</th>\n",
       "      <th>listed_in</th>\n",
       "      <th>cast</th>\n",
       "    </tr>\n",
       "  </thead>\n",
       "  <tbody>\n",
       "    <tr>\n",
       "      <th>0</th>\n",
       "      <td>1</td>\n",
       "      <td>TV Show</td>\n",
       "      <td>blood &amp; water</td>\n",
       "      <td>South Africa</td>\n",
       "      <td>2021-09-24</td>\n",
       "      <td>2021</td>\n",
       "      <td>2</td>\n",
       "      <td>International</td>\n",
       "      <td>Ama Qamata</td>\n",
       "    </tr>\n",
       "    <tr>\n",
       "      <th>0</th>\n",
       "      <td>1</td>\n",
       "      <td>TV Show</td>\n",
       "      <td>blood &amp; water</td>\n",
       "      <td>South Africa</td>\n",
       "      <td>2021-09-24</td>\n",
       "      <td>2021</td>\n",
       "      <td>2</td>\n",
       "      <td>International</td>\n",
       "      <td>Khosi Ngema</td>\n",
       "    </tr>\n",
       "    <tr>\n",
       "      <th>0</th>\n",
       "      <td>1</td>\n",
       "      <td>TV Show</td>\n",
       "      <td>blood &amp; water</td>\n",
       "      <td>South Africa</td>\n",
       "      <td>2021-09-24</td>\n",
       "      <td>2021</td>\n",
       "      <td>2</td>\n",
       "      <td>International</td>\n",
       "      <td>Gail Mabalane</td>\n",
       "    </tr>\n",
       "    <tr>\n",
       "      <th>0</th>\n",
       "      <td>1</td>\n",
       "      <td>TV Show</td>\n",
       "      <td>blood &amp; water</td>\n",
       "      <td>South Africa</td>\n",
       "      <td>2021-09-24</td>\n",
       "      <td>2021</td>\n",
       "      <td>2</td>\n",
       "      <td>International</td>\n",
       "      <td>Thabang Molaba</td>\n",
       "    </tr>\n",
       "    <tr>\n",
       "      <th>0</th>\n",
       "      <td>1</td>\n",
       "      <td>TV Show</td>\n",
       "      <td>blood &amp; water</td>\n",
       "      <td>South Africa</td>\n",
       "      <td>2021-09-24</td>\n",
       "      <td>2021</td>\n",
       "      <td>2</td>\n",
       "      <td>International</td>\n",
       "      <td>Dillon Windvogel</td>\n",
       "    </tr>\n",
       "    <tr>\n",
       "      <th>0</th>\n",
       "      <td>1</td>\n",
       "      <td>TV Show</td>\n",
       "      <td>blood &amp; water</td>\n",
       "      <td>South Africa</td>\n",
       "      <td>2021-09-24</td>\n",
       "      <td>2021</td>\n",
       "      <td>2</td>\n",
       "      <td>International</td>\n",
       "      <td>Natasha Thahane</td>\n",
       "    </tr>\n",
       "    <tr>\n",
       "      <th>0</th>\n",
       "      <td>1</td>\n",
       "      <td>TV Show</td>\n",
       "      <td>blood &amp; water</td>\n",
       "      <td>South Africa</td>\n",
       "      <td>2021-09-24</td>\n",
       "      <td>2021</td>\n",
       "      <td>2</td>\n",
       "      <td>International</td>\n",
       "      <td>Arno Greeff</td>\n",
       "    </tr>\n",
       "    <tr>\n",
       "      <th>0</th>\n",
       "      <td>1</td>\n",
       "      <td>TV Show</td>\n",
       "      <td>blood &amp; water</td>\n",
       "      <td>South Africa</td>\n",
       "      <td>2021-09-24</td>\n",
       "      <td>2021</td>\n",
       "      <td>2</td>\n",
       "      <td>International</td>\n",
       "      <td>Xolile Tshabalala</td>\n",
       "    </tr>\n",
       "    <tr>\n",
       "      <th>0</th>\n",
       "      <td>1</td>\n",
       "      <td>TV Show</td>\n",
       "      <td>blood &amp; water</td>\n",
       "      <td>South Africa</td>\n",
       "      <td>2021-09-24</td>\n",
       "      <td>2021</td>\n",
       "      <td>2</td>\n",
       "      <td>International</td>\n",
       "      <td>Getmore Sithole</td>\n",
       "    </tr>\n",
       "    <tr>\n",
       "      <th>0</th>\n",
       "      <td>1</td>\n",
       "      <td>TV Show</td>\n",
       "      <td>blood &amp; water</td>\n",
       "      <td>South Africa</td>\n",
       "      <td>2021-09-24</td>\n",
       "      <td>2021</td>\n",
       "      <td>2</td>\n",
       "      <td>International</td>\n",
       "      <td>Cindy Mahlangu</td>\n",
       "    </tr>\n",
       "    <tr>\n",
       "      <th>0</th>\n",
       "      <td>1</td>\n",
       "      <td>TV Show</td>\n",
       "      <td>blood &amp; water</td>\n",
       "      <td>South Africa</td>\n",
       "      <td>2021-09-24</td>\n",
       "      <td>2021</td>\n",
       "      <td>2</td>\n",
       "      <td>International</td>\n",
       "      <td>Ryle De Morny</td>\n",
       "    </tr>\n",
       "    <tr>\n",
       "      <th>0</th>\n",
       "      <td>1</td>\n",
       "      <td>TV Show</td>\n",
       "      <td>blood &amp; water</td>\n",
       "      <td>South Africa</td>\n",
       "      <td>2021-09-24</td>\n",
       "      <td>2021</td>\n",
       "      <td>2</td>\n",
       "      <td>International</td>\n",
       "      <td>Greteli Fincham</td>\n",
       "    </tr>\n",
       "    <tr>\n",
       "      <th>0</th>\n",
       "      <td>1</td>\n",
       "      <td>TV Show</td>\n",
       "      <td>blood &amp; water</td>\n",
       "      <td>South Africa</td>\n",
       "      <td>2021-09-24</td>\n",
       "      <td>2021</td>\n",
       "      <td>2</td>\n",
       "      <td>International</td>\n",
       "      <td>Sello Maake Ka-Ncube</td>\n",
       "    </tr>\n",
       "    <tr>\n",
       "      <th>0</th>\n",
       "      <td>1</td>\n",
       "      <td>TV Show</td>\n",
       "      <td>blood &amp; water</td>\n",
       "      <td>South Africa</td>\n",
       "      <td>2021-09-24</td>\n",
       "      <td>2021</td>\n",
       "      <td>2</td>\n",
       "      <td>International</td>\n",
       "      <td>Odwa Gwanya</td>\n",
       "    </tr>\n",
       "    <tr>\n",
       "      <th>0</th>\n",
       "      <td>1</td>\n",
       "      <td>TV Show</td>\n",
       "      <td>blood &amp; water</td>\n",
       "      <td>South Africa</td>\n",
       "      <td>2021-09-24</td>\n",
       "      <td>2021</td>\n",
       "      <td>2</td>\n",
       "      <td>International</td>\n",
       "      <td>Mekaila Mathys</td>\n",
       "    </tr>\n",
       "    <tr>\n",
       "      <th>0</th>\n",
       "      <td>1</td>\n",
       "      <td>TV Show</td>\n",
       "      <td>blood &amp; water</td>\n",
       "      <td>South Africa</td>\n",
       "      <td>2021-09-24</td>\n",
       "      <td>2021</td>\n",
       "      <td>2</td>\n",
       "      <td>International</td>\n",
       "      <td>Sandi Schultz</td>\n",
       "    </tr>\n",
       "    <tr>\n",
       "      <th>0</th>\n",
       "      <td>1</td>\n",
       "      <td>TV Show</td>\n",
       "      <td>blood &amp; water</td>\n",
       "      <td>South Africa</td>\n",
       "      <td>2021-09-24</td>\n",
       "      <td>2021</td>\n",
       "      <td>2</td>\n",
       "      <td>International</td>\n",
       "      <td>Duane Williams</td>\n",
       "    </tr>\n",
       "    <tr>\n",
       "      <th>0</th>\n",
       "      <td>1</td>\n",
       "      <td>TV Show</td>\n",
       "      <td>blood &amp; water</td>\n",
       "      <td>South Africa</td>\n",
       "      <td>2021-09-24</td>\n",
       "      <td>2021</td>\n",
       "      <td>2</td>\n",
       "      <td>International</td>\n",
       "      <td>Shamilla Miller</td>\n",
       "    </tr>\n",
       "    <tr>\n",
       "      <th>0</th>\n",
       "      <td>1</td>\n",
       "      <td>TV Show</td>\n",
       "      <td>blood &amp; water</td>\n",
       "      <td>South Africa</td>\n",
       "      <td>2021-09-24</td>\n",
       "      <td>2021</td>\n",
       "      <td>2</td>\n",
       "      <td>International</td>\n",
       "      <td>Patrick Mofokeng</td>\n",
       "    </tr>\n",
       "    <tr>\n",
       "      <th>1</th>\n",
       "      <td>1</td>\n",
       "      <td>TV Show</td>\n",
       "      <td>blood &amp; water</td>\n",
       "      <td>South Africa</td>\n",
       "      <td>2021-09-24</td>\n",
       "      <td>2021</td>\n",
       "      <td>2</td>\n",
       "      <td>Drama &amp; Adventure</td>\n",
       "      <td>Ama Qamata</td>\n",
       "    </tr>\n",
       "  </tbody>\n",
       "</table>\n",
       "</div>"
      ],
      "text/plain": [
       "   show_id     type          title       country date_added  release_year  \\\n",
       "0        1  TV Show  blood & water  South Africa 2021-09-24          2021   \n",
       "0        1  TV Show  blood & water  South Africa 2021-09-24          2021   \n",
       "0        1  TV Show  blood & water  South Africa 2021-09-24          2021   \n",
       "0        1  TV Show  blood & water  South Africa 2021-09-24          2021   \n",
       "0        1  TV Show  blood & water  South Africa 2021-09-24          2021   \n",
       "0        1  TV Show  blood & water  South Africa 2021-09-24          2021   \n",
       "0        1  TV Show  blood & water  South Africa 2021-09-24          2021   \n",
       "0        1  TV Show  blood & water  South Africa 2021-09-24          2021   \n",
       "0        1  TV Show  blood & water  South Africa 2021-09-24          2021   \n",
       "0        1  TV Show  blood & water  South Africa 2021-09-24          2021   \n",
       "0        1  TV Show  blood & water  South Africa 2021-09-24          2021   \n",
       "0        1  TV Show  blood & water  South Africa 2021-09-24          2021   \n",
       "0        1  TV Show  blood & water  South Africa 2021-09-24          2021   \n",
       "0        1  TV Show  blood & water  South Africa 2021-09-24          2021   \n",
       "0        1  TV Show  blood & water  South Africa 2021-09-24          2021   \n",
       "0        1  TV Show  blood & water  South Africa 2021-09-24          2021   \n",
       "0        1  TV Show  blood & water  South Africa 2021-09-24          2021   \n",
       "0        1  TV Show  blood & water  South Africa 2021-09-24          2021   \n",
       "0        1  TV Show  blood & water  South Africa 2021-09-24          2021   \n",
       "1        1  TV Show  blood & water  South Africa 2021-09-24          2021   \n",
       "\n",
       "   duration          listed_in                  cast  \n",
       "0         2      International            Ama Qamata  \n",
       "0         2      International           Khosi Ngema  \n",
       "0         2      International         Gail Mabalane  \n",
       "0         2      International        Thabang Molaba  \n",
       "0         2      International      Dillon Windvogel  \n",
       "0         2      International       Natasha Thahane  \n",
       "0         2      International           Arno Greeff  \n",
       "0         2      International     Xolile Tshabalala  \n",
       "0         2      International       Getmore Sithole  \n",
       "0         2      International        Cindy Mahlangu  \n",
       "0         2      International         Ryle De Morny  \n",
       "0         2      International       Greteli Fincham  \n",
       "0         2      International  Sello Maake Ka-Ncube  \n",
       "0         2      International           Odwa Gwanya  \n",
       "0         2      International        Mekaila Mathys  \n",
       "0         2      International         Sandi Schultz  \n",
       "0         2      International        Duane Williams  \n",
       "0         2      International       Shamilla Miller  \n",
       "0         2      International      Patrick Mofokeng  \n",
       "1         2  Drama & Adventure            Ama Qamata  "
      ]
     },
     "execution_count": 327,
     "metadata": {},
     "output_type": "execute_result"
    }
   ],
   "source": [
    "df.head(20)"
   ]
  },
  {
   "cell_type": "code",
   "execution_count": 334,
   "id": "bddf2809",
   "metadata": {},
   "outputs": [],
   "source": [
    "df['cast'] = df['cast'].str.replace('\"', '')"
   ]
  },
  {
   "cell_type": "code",
   "execution_count": 330,
   "id": "e0183c17",
   "metadata": {},
   "outputs": [
    {
     "name": "stdout",
     "output_type": "stream",
     "text": [
      "<class 'pandas.core.frame.DataFrame'>\n",
      "Int64Index: 34720 entries, 0 to 4729\n",
      "Data columns (total 9 columns):\n",
      " #   Column        Non-Null Count  Dtype         \n",
      "---  ------        --------------  -----         \n",
      " 0   show_id       34720 non-null  int64         \n",
      " 1   type          34720 non-null  object        \n",
      " 2   title         34720 non-null  object        \n",
      " 3   country       34720 non-null  object        \n",
      " 4   date_added    34720 non-null  datetime64[ns]\n",
      " 5   release_year  34720 non-null  int64         \n",
      " 6   duration      34720 non-null  int32         \n",
      " 7   listed_in     34720 non-null  object        \n",
      " 8   cast          34720 non-null  object        \n",
      "dtypes: datetime64[ns](1), int32(1), int64(2), object(5)\n",
      "memory usage: 2.5+ MB\n"
     ]
    }
   ],
   "source": [
    "df.info()"
   ]
  },
  {
   "cell_type": "code",
   "execution_count": 336,
   "id": "f3a42e5d",
   "metadata": {},
   "outputs": [],
   "source": [
    "df.to_csv('new_netflix_titles.csv', index=False)"
   ]
  },
  {
   "cell_type": "code",
   "execution_count": 332,
   "id": "d9c069cb",
   "metadata": {},
   "outputs": [
    {
     "data": {
      "text/plain": [
       "array(['International', 'Drama & Adventure', 'Comedy',\n",
       "       'Reality & Documentary', 'Science Fiction & Kids'], dtype=object)"
      ]
     },
     "execution_count": 332,
     "metadata": {},
     "output_type": "execute_result"
    }
   ],
   "source": [
    "df['listed_in'].unique()"
   ]
  },
  {
   "cell_type": "code",
   "execution_count": 335,
   "id": "3c208ed4",
   "metadata": {},
   "outputs": [
    {
     "name": "stdout",
     "output_type": "stream",
     "text": [
      "79                      Efa Iwara\n",
      "79                      Titi Kuti\n",
      "79    Tobechukwu iLLbliss Ejiofor\n",
      "79     Remilekun Reminisce Safaru\n",
      "79      Charles  Charly Boy Oputa\n",
      "79                  Nse Ikpe-Etim\n",
      "79         Keppy Ekpenyong Bassey\n",
      "79                   Bimbo Manuel\n",
      "79                     Akin Lewis\n",
      "79                     Lord Frank\n",
      "Name: cast, dtype: object\n"
     ]
    }
   ],
   "source": [
    "selected_rows = df['cast'][620:630]\n",
    "\n",
    "# 打印这些行的数据\n",
    "print(selected_rows)"
   ]
  },
  {
   "cell_type": "code",
   "execution_count": 337,
   "id": "e72e8bd6",
   "metadata": {},
   "outputs": [
    {
     "name": "stdout",
     "output_type": "stream",
     "text": [
      "      show_id     type                       title    country date_added  \\\n",
      "2983     4702  TV Show  72 dangerous animals: asia  Australia 2018-08-10   \n",
      "2984     4702  TV Show  72 dangerous animals: asia  Australia 2018-08-10   \n",
      "2985     4702  TV Show  72 dangerous animals: asia  Australia 2018-08-10   \n",
      "\n",
      "      release_year  duration              listed_in          cast  \n",
      "2983          2018         1  Reality & Documentary  Bob Brisbane  \n",
      "2984          2018         1          International  Bob Brisbane  \n",
      "2985          2018         1  Reality & Documentary  Bob Brisbane  \n"
     ]
    }
   ],
   "source": [
    "result = df[df['title'] == '72 dangerous animals: asia']\n",
    "\n",
    "print(result)"
   ]
  },
  {
   "cell_type": "code",
   "execution_count": null,
   "id": "f27d8a82",
   "metadata": {},
   "outputs": [],
   "source": []
  }
 ],
 "metadata": {
  "kernelspec": {
   "display_name": "Python 3 (ipykernel)",
   "language": "python",
   "name": "python3"
  },
  "language_info": {
   "codemirror_mode": {
    "name": "ipython",
    "version": 3
   },
   "file_extension": ".py",
   "mimetype": "text/x-python",
   "name": "python",
   "nbconvert_exporter": "python",
   "pygments_lexer": "ipython3",
   "version": "3.7.13"
  }
 },
 "nbformat": 4,
 "nbformat_minor": 5
}
