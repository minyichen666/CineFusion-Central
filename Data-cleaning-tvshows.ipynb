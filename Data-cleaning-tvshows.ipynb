{
 "cells": [
  {
   "cell_type": "code",
   "execution_count": 68,
   "id": "664058cb",
   "metadata": {},
   "outputs": [],
   "source": [
    "import pandas as pd\n",
    "import matplotlib.pyplot as plt"
   ]
  },
  {
   "cell_type": "code",
   "execution_count": 69,
   "id": "c1912a94",
   "metadata": {},
   "outputs": [],
   "source": [
    "file_path = \".\\\\rsc\\\\mysql\\\\tv_shows.csv\"\n",
    "\n",
    "tv_shows = pd.read_csv(file_path)\n",
    "\n",
    "tv_shows.drop(['Netflix'], axis=1, inplace=True)\n",
    "tv_shows.drop(['Hulu'], axis=1, inplace=True)\n",
    "tv_shows.drop(['Prime Video'], axis=1, inplace=True)\n",
    "tv_shows.drop(['Disney+'], axis=1, inplace=True)\n",
    "tv_shows.drop(['Type'], axis=1, inplace=True)\n",
    "tv_shows.drop(['Unnamed: 0'], axis=1, inplace=True)\n",
    "tv_shows.drop(['ID'], axis=1, inplace=True)"
   ]
  },
  {
   "cell_type": "code",
   "execution_count": 70,
   "id": "fb520065",
   "metadata": {},
   "outputs": [
    {
     "data": {
      "text/html": [
       "<div>\n",
       "<style scoped>\n",
       "    .dataframe tbody tr th:only-of-type {\n",
       "        vertical-align: middle;\n",
       "    }\n",
       "\n",
       "    .dataframe tbody tr th {\n",
       "        vertical-align: top;\n",
       "    }\n",
       "\n",
       "    .dataframe thead th {\n",
       "        text-align: right;\n",
       "    }\n",
       "</style>\n",
       "<table border=\"1\" class=\"dataframe\">\n",
       "  <thead>\n",
       "    <tr style=\"text-align: right;\">\n",
       "      <th></th>\n",
       "      <th>Title</th>\n",
       "      <th>Year</th>\n",
       "      <th>Age</th>\n",
       "      <th>IMDb</th>\n",
       "      <th>Rotten Tomatoes</th>\n",
       "    </tr>\n",
       "  </thead>\n",
       "  <tbody>\n",
       "    <tr>\n",
       "      <th>0</th>\n",
       "      <td>Breaking Bad</td>\n",
       "      <td>2008</td>\n",
       "      <td>18+</td>\n",
       "      <td>9.4/10</td>\n",
       "      <td>100/100</td>\n",
       "    </tr>\n",
       "    <tr>\n",
       "      <th>1</th>\n",
       "      <td>Stranger Things</td>\n",
       "      <td>2016</td>\n",
       "      <td>16+</td>\n",
       "      <td>8.7/10</td>\n",
       "      <td>96/100</td>\n",
       "    </tr>\n",
       "    <tr>\n",
       "      <th>2</th>\n",
       "      <td>Attack on Titan</td>\n",
       "      <td>2013</td>\n",
       "      <td>18+</td>\n",
       "      <td>9.0/10</td>\n",
       "      <td>95/100</td>\n",
       "    </tr>\n",
       "  </tbody>\n",
       "</table>\n",
       "</div>"
      ],
      "text/plain": [
       "             Title  Year  Age    IMDb Rotten Tomatoes\n",
       "0     Breaking Bad  2008  18+  9.4/10         100/100\n",
       "1  Stranger Things  2016  16+  8.7/10          96/100\n",
       "2  Attack on Titan  2013  18+  9.0/10          95/100"
      ]
     },
     "execution_count": 70,
     "metadata": {},
     "output_type": "execute_result"
    }
   ],
   "source": [
    "tv_shows.head(3)"
   ]
  },
  {
   "cell_type": "code",
   "execution_count": 71,
   "id": "43f35f39",
   "metadata": {},
   "outputs": [],
   "source": [
    "tv_shows = tv_shows.dropna()"
   ]
  },
  {
   "cell_type": "code",
   "execution_count": 72,
   "id": "a2bef8e8",
   "metadata": {},
   "outputs": [
    {
     "name": "stdout",
     "output_type": "stream",
     "text": [
      "Title null rate: 0.0%\n",
      "Year null rate: 0.0%\n",
      "Age null rate: 0.0%\n",
      "IMDb null rate: 0.0%\n",
      "Rotten Tomatoes null rate: 0.0%\n"
     ]
    }
   ],
   "source": [
    "for i in tv_shows.columns:\n",
    "    null_percent = tv_shows[i].isna().sum()/len(tv_shows) *100\n",
    "    print(\"{} null rate: {}%\".format(i,round(null_percent,2)))"
   ]
  },
  {
   "cell_type": "code",
   "execution_count": 73,
   "id": "33a45b08",
   "metadata": {},
   "outputs": [
    {
     "data": {
      "text/html": [
       "<div>\n",
       "<style scoped>\n",
       "    .dataframe tbody tr th:only-of-type {\n",
       "        vertical-align: middle;\n",
       "    }\n",
       "\n",
       "    .dataframe tbody tr th {\n",
       "        vertical-align: top;\n",
       "    }\n",
       "\n",
       "    .dataframe thead th {\n",
       "        text-align: right;\n",
       "    }\n",
       "</style>\n",
       "<table border=\"1\" class=\"dataframe\">\n",
       "  <thead>\n",
       "    <tr style=\"text-align: right;\">\n",
       "      <th></th>\n",
       "      <th>Title</th>\n",
       "      <th>Year</th>\n",
       "      <th>Age</th>\n",
       "      <th>IMDb</th>\n",
       "      <th>Rotten Tomatoes</th>\n",
       "    </tr>\n",
       "  </thead>\n",
       "  <tbody>\n",
       "    <tr>\n",
       "      <th>0</th>\n",
       "      <td>Breaking Bad</td>\n",
       "      <td>2008</td>\n",
       "      <td>18+</td>\n",
       "      <td>9.4/10</td>\n",
       "      <td>100/100</td>\n",
       "    </tr>\n",
       "    <tr>\n",
       "      <th>1</th>\n",
       "      <td>Stranger Things</td>\n",
       "      <td>2016</td>\n",
       "      <td>16+</td>\n",
       "      <td>8.7/10</td>\n",
       "      <td>96/100</td>\n",
       "    </tr>\n",
       "    <tr>\n",
       "      <th>2</th>\n",
       "      <td>Attack on Titan</td>\n",
       "      <td>2013</td>\n",
       "      <td>18+</td>\n",
       "      <td>9.0/10</td>\n",
       "      <td>95/100</td>\n",
       "    </tr>\n",
       "  </tbody>\n",
       "</table>\n",
       "</div>"
      ],
      "text/plain": [
       "             Title  Year  Age    IMDb Rotten Tomatoes\n",
       "0     Breaking Bad  2008  18+  9.4/10         100/100\n",
       "1  Stranger Things  2016  16+  8.7/10          96/100\n",
       "2  Attack on Titan  2013  18+  9.0/10          95/100"
      ]
     },
     "execution_count": 73,
     "metadata": {},
     "output_type": "execute_result"
    }
   ],
   "source": [
    "tv_shows.head(3)"
   ]
  },
  {
   "cell_type": "code",
   "execution_count": 74,
   "id": "06c82c4e",
   "metadata": {},
   "outputs": [
    {
     "data": {
      "text/plain": [
       "array(['18+', '16+', '7+', 'all', '13+'], dtype=object)"
      ]
     },
     "execution_count": 74,
     "metadata": {},
     "output_type": "execute_result"
    }
   ],
   "source": [
    "tv_shows[\"Age\"].unique()"
   ]
  },
  {
   "cell_type": "code",
   "execution_count": 75,
   "id": "ab7aaea9",
   "metadata": {},
   "outputs": [
    {
     "name": "stderr",
     "output_type": "stream",
     "text": [
      "D:\\Anaconda\\envs\\pytorch\\lib\\site-packages\\ipykernel_launcher.py:4: FutureWarning: The default value of regex will change from True to False in a future version. In addition, single character regular expressions will *not* be treated as literal strings when regex=True.\n",
      "  after removing the cwd from sys.path.\n"
     ]
    }
   ],
   "source": [
    "tv_shows['Rotten Tomatoes'] = tv_shows['Rotten Tomatoes'].str.replace('/100', '')\n",
    "\n",
    "#replace all to 0\n",
    "tv_shows['Age'] = tv_shows['Age'].str.replace('+', '')\n",
    "tv_shows['Age'] = tv_shows['Age'].replace('all', '0')\n",
    "tv_shows['Age'] = tv_shows['Age'].astype(int)\n",
    "\n",
    "tv_shows['IMDb'] = tv_shows['IMDb'].str.replace('/10', '')\n",
    "tv_shows[\"IMDb\"] = pd.to_numeric(tv_shows[\"IMDb\"]) * 10\n",
    "tv_shows[\"Rotten Tomatoes\"] = pd.to_numeric(tv_shows[\"Rotten Tomatoes\"])"
   ]
  },
  {
   "cell_type": "code",
   "execution_count": 76,
   "id": "800a2e62",
   "metadata": {},
   "outputs": [
    {
     "data": {
      "text/html": [
       "<div>\n",
       "<style scoped>\n",
       "    .dataframe tbody tr th:only-of-type {\n",
       "        vertical-align: middle;\n",
       "    }\n",
       "\n",
       "    .dataframe tbody tr th {\n",
       "        vertical-align: top;\n",
       "    }\n",
       "\n",
       "    .dataframe thead th {\n",
       "        text-align: right;\n",
       "    }\n",
       "</style>\n",
       "<table border=\"1\" class=\"dataframe\">\n",
       "  <thead>\n",
       "    <tr style=\"text-align: right;\">\n",
       "      <th></th>\n",
       "      <th>Title</th>\n",
       "      <th>Year</th>\n",
       "      <th>Age</th>\n",
       "      <th>IMDb</th>\n",
       "      <th>Rotten Tomatoes</th>\n",
       "    </tr>\n",
       "  </thead>\n",
       "  <tbody>\n",
       "    <tr>\n",
       "      <th>0</th>\n",
       "      <td>Breaking Bad</td>\n",
       "      <td>2008</td>\n",
       "      <td>18</td>\n",
       "      <td>94.0</td>\n",
       "      <td>100</td>\n",
       "    </tr>\n",
       "    <tr>\n",
       "      <th>1</th>\n",
       "      <td>Stranger Things</td>\n",
       "      <td>2016</td>\n",
       "      <td>16</td>\n",
       "      <td>87.0</td>\n",
       "      <td>96</td>\n",
       "    </tr>\n",
       "    <tr>\n",
       "      <th>2</th>\n",
       "      <td>Attack on Titan</td>\n",
       "      <td>2013</td>\n",
       "      <td>18</td>\n",
       "      <td>90.0</td>\n",
       "      <td>95</td>\n",
       "    </tr>\n",
       "    <tr>\n",
       "      <th>3</th>\n",
       "      <td>Better Call Saul</td>\n",
       "      <td>2015</td>\n",
       "      <td>18</td>\n",
       "      <td>88.0</td>\n",
       "      <td>94</td>\n",
       "    </tr>\n",
       "    <tr>\n",
       "      <th>4</th>\n",
       "      <td>Dark</td>\n",
       "      <td>2017</td>\n",
       "      <td>16</td>\n",
       "      <td>88.0</td>\n",
       "      <td>93</td>\n",
       "    </tr>\n",
       "    <tr>\n",
       "      <th>5</th>\n",
       "      <td>Avatar: The Last Airbender</td>\n",
       "      <td>2005</td>\n",
       "      <td>7</td>\n",
       "      <td>93.0</td>\n",
       "      <td>93</td>\n",
       "    </tr>\n",
       "    <tr>\n",
       "      <th>6</th>\n",
       "      <td>Peaky Blinders</td>\n",
       "      <td>2013</td>\n",
       "      <td>18</td>\n",
       "      <td>88.0</td>\n",
       "      <td>93</td>\n",
       "    </tr>\n",
       "    <tr>\n",
       "      <th>7</th>\n",
       "      <td>The Walking Dead</td>\n",
       "      <td>2010</td>\n",
       "      <td>18</td>\n",
       "      <td>82.0</td>\n",
       "      <td>93</td>\n",
       "    </tr>\n",
       "    <tr>\n",
       "      <th>8</th>\n",
       "      <td>Black Mirror</td>\n",
       "      <td>2011</td>\n",
       "      <td>18</td>\n",
       "      <td>88.0</td>\n",
       "      <td>92</td>\n",
       "    </tr>\n",
       "    <tr>\n",
       "      <th>9</th>\n",
       "      <td>The Queen's Gambit</td>\n",
       "      <td>2020</td>\n",
       "      <td>18</td>\n",
       "      <td>86.0</td>\n",
       "      <td>92</td>\n",
       "    </tr>\n",
       "  </tbody>\n",
       "</table>\n",
       "</div>"
      ],
      "text/plain": [
       "                        Title  Year  Age  IMDb  Rotten Tomatoes\n",
       "0                Breaking Bad  2008   18  94.0              100\n",
       "1             Stranger Things  2016   16  87.0               96\n",
       "2             Attack on Titan  2013   18  90.0               95\n",
       "3            Better Call Saul  2015   18  88.0               94\n",
       "4                        Dark  2017   16  88.0               93\n",
       "5  Avatar: The Last Airbender  2005    7  93.0               93\n",
       "6              Peaky Blinders  2013   18  88.0               93\n",
       "7            The Walking Dead  2010   18  82.0               93\n",
       "8                Black Mirror  2011   18  88.0               92\n",
       "9          The Queen's Gambit  2020   18  86.0               92"
      ]
     },
     "execution_count": 76,
     "metadata": {},
     "output_type": "execute_result"
    }
   ],
   "source": [
    "tv_shows.head(10)"
   ]
  },
  {
   "cell_type": "code",
   "execution_count": 77,
   "id": "a20cd006",
   "metadata": {},
   "outputs": [
    {
     "name": "stdout",
     "output_type": "stream",
     "text": [
      "<class 'pandas.core.frame.DataFrame'>\n",
      "Int64Index: 3207 entries, 0 to 5342\n",
      "Data columns (total 5 columns):\n",
      " #   Column           Non-Null Count  Dtype  \n",
      "---  ------           --------------  -----  \n",
      " 0   Title            3207 non-null   object \n",
      " 1   Year             3207 non-null   int64  \n",
      " 2   Age              3207 non-null   int32  \n",
      " 3   IMDb             3207 non-null   float64\n",
      " 4   Rotten Tomatoes  3207 non-null   int64  \n",
      "dtypes: float64(1), int32(1), int64(2), object(1)\n",
      "memory usage: 137.8+ KB\n"
     ]
    }
   ],
   "source": [
    "tv_shows.info()"
   ]
  },
  {
   "cell_type": "code",
   "execution_count": 78,
   "id": "d32429d6",
   "metadata": {},
   "outputs": [],
   "source": [
    "tv_shows.to_csv('new_tv_shows.csv', index=False)"
   ]
  },
  {
   "cell_type": "code",
   "execution_count": 79,
   "id": "faf37b9e",
   "metadata": {},
   "outputs": [
    {
     "data": {
      "text/plain": [
       "array(['Breaking Bad', 'Stranger Things', 'Attack on Titan', ...,\n",
       "       \"Howie Mandel's Animals Doing Things\", 'The Big Fib',\n",
       "       'Vampirina: Ghoul Girls Rock!'], dtype=object)"
      ]
     },
     "execution_count": 79,
     "metadata": {},
     "output_type": "execute_result"
    }
   ],
   "source": [
    "tv_shows['Title'].unique()"
   ]
  }
 ],
 "metadata": {
  "kernelspec": {
   "display_name": "Python 3 (ipykernel)",
   "language": "python",
   "name": "python3"
  },
  "language_info": {
   "codemirror_mode": {
    "name": "ipython",
    "version": 3
   },
   "file_extension": ".py",
   "mimetype": "text/x-python",
   "name": "python",
   "nbconvert_exporter": "python",
   "pygments_lexer": "ipython3",
   "version": "3.7.13"
  }
 },
 "nbformat": 4,
 "nbformat_minor": 5
}
